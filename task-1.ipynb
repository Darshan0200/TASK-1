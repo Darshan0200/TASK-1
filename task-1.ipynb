{
 "cells": [
  {
   "cell_type": "code",
   "execution_count": 23,
   "id": "5c87711b",
   "metadata": {},
   "outputs": [],
   "source": [
    "import pandas as pd\n"
   ]
  },
  {
   "cell_type": "markdown",
   "id": "dc1f8bfb",
   "metadata": {},
   "source": [
    "load dataset\n"
   ]
  },
  {
   "cell_type": "code",
   "execution_count": null,
   "id": "89aa4e81",
   "metadata": {},
   "outputs": [],
   "source": [
    "df = pd.read_csv(r\"C:\\Users\\DELL\\OneDrive\\Desktop\\KaggleV2-May-2016.csv\")"
   ]
  },
  {
   "cell_type": "markdown",
   "id": "6dc49e5e",
   "metadata": {},
   "source": [
    "rename columns to snake case"
   ]
  },
  {
   "cell_type": "code",
   "execution_count": 25,
   "id": "0b6ac150",
   "metadata": {},
   "outputs": [],
   "source": [
    "df.rename(columns={\n",
    "    \"PatientId\": \"patient_id\",\n",
    "    \"AppointmentID\": \"appointment_id\",\n",
    "    \"Gender\": \"gender\",\n",
    "    \"ScheduledDay\": \"scheduled_day\",\n",
    "    \"AppointmentDay\": \"appointment_day\",\n",
    "    \"Age\": \"age\",\n",
    "    \"Neighbourhood\": \"neighbourhood\",\n",
    "    \"Scholarship\": \"scholarship\",\n",
    "    \"Hipertension\": \"hypertension\",\n",
    "    \"Diabetes\": \"diabetes\",\n",
    "    \"Alcoholism\": \"alcoholism\",\n",
    "    \"Handcap\": \"handicap\",\n",
    "    \"SMS_received\": \"sms_received\",\n",
    "    \"No-show\": \"no_show\"\n",
    "}, inplace=True)\n"
   ]
  },
  {
   "cell_type": "markdown",
   "id": "c22c28e3",
   "metadata": {},
   "source": [
    "convert day time felids "
   ]
  },
  {
   "cell_type": "code",
   "execution_count": 26,
   "id": "ad1134b4",
   "metadata": {},
   "outputs": [],
   "source": [
    "df['scheduled_day'] = pd.to_datetime(df['scheduled_day'], errors='coerce')\n",
    "df['appointment_day'] = pd.to_datetime(df['appointment_day'], errors='coerce')"
   ]
  },
  {
   "cell_type": "markdown",
   "id": "f7172dc2",
   "metadata": {},
   "source": [
    "standard value"
   ]
  },
  {
   "cell_type": "code",
   "execution_count": 27,
   "id": "30f4670f",
   "metadata": {},
   "outputs": [],
   "source": [
    "df['no_show'] = df['no_show'].str.strip().str.lower()  # 'yes' or 'no'\n",
    "df['gender'] = df['gender'].str.upper()  # 'F' or 'M'"
   ]
  },
  {
   "cell_type": "markdown",
   "id": "2c09c281",
   "metadata": {},
   "source": [
    "convert patient_id to string"
   ]
  },
  {
   "cell_type": "code",
   "execution_count": 28,
   "id": "941521f7",
   "metadata": {},
   "outputs": [],
   "source": [
    "df['patient_id'] = df['patient_id'].astype('int64').astype('str')"
   ]
  },
  {
   "cell_type": "markdown",
   "id": "66644839",
   "metadata": {},
   "source": [
    "remove rows with invalid age "
   ]
  },
  {
   "cell_type": "code",
   "execution_count": 29,
   "id": "5f4175d3",
   "metadata": {},
   "outputs": [],
   "source": [
    "df = df[df['age'] >= 0]"
   ]
  },
  {
   "cell_type": "markdown",
   "id": "a047b4e0",
   "metadata": {},
   "source": [
    "final output "
   ]
  },
  {
   "cell_type": "code",
   "execution_count": 30,
   "id": "8fc324cc",
   "metadata": {},
   "outputs": [
    {
     "name": "stdout",
     "output_type": "stream",
     "text": [
      "Cleaned shape: (110526, 14)\n",
      "Null values:\n",
      " patient_id         0\n",
      "appointment_id     0\n",
      "gender             0\n",
      "scheduled_day      0\n",
      "appointment_day    0\n",
      "age                0\n",
      "neighbourhood      0\n",
      "scholarship        0\n",
      "hypertension       0\n",
      "diabetes           0\n",
      "alcoholism         0\n",
      "handicap           0\n",
      "sms_received       0\n",
      "no_show            0\n",
      "dtype: int64\n",
      "Sample data:\n",
      "         patient_id  appointment_id gender             scheduled_day  \\\n",
      "0   29872499824296         5642903      F 2016-04-29 18:38:08+00:00   \n",
      "1  558997776694438         5642503      M 2016-04-29 16:08:27+00:00   \n",
      "2    4262962299951         5642549      F 2016-04-29 16:19:04+00:00   \n",
      "3     867951213174         5642828      F 2016-04-29 17:29:31+00:00   \n",
      "4    8841186448183         5642494      F 2016-04-29 16:07:23+00:00   \n",
      "\n",
      "            appointment_day  age      neighbourhood  scholarship  \\\n",
      "0 2016-04-29 00:00:00+00:00   62    JARDIM DA PENHA            0   \n",
      "1 2016-04-29 00:00:00+00:00   56    JARDIM DA PENHA            0   \n",
      "2 2016-04-29 00:00:00+00:00   62      MATA DA PRAIA            0   \n",
      "3 2016-04-29 00:00:00+00:00    8  PONTAL DE CAMBURI            0   \n",
      "4 2016-04-29 00:00:00+00:00   56    JARDIM DA PENHA            0   \n",
      "\n",
      "   hypertension  diabetes  alcoholism  handicap  sms_received no_show  \n",
      "0             1         0           0         0             0      no  \n",
      "1             0         0           0         0             0      no  \n",
      "2             0         0           0         0             0      no  \n",
      "3             0         0           0         0             0      no  \n",
      "4             1         1           0         0             0      no  \n"
     ]
    }
   ],
   "source": [
    "print(\"Cleaned shape:\", df.shape)\n",
    "print(\"Null values:\\n\", df.isnull().sum())\n",
    "print(\"Sample data:\\n\", df.head())\n"
   ]
  },
  {
   "cell_type": "markdown",
   "id": "4014f615",
   "metadata": {},
   "source": [
    "save the dataset"
   ]
  },
  {
   "cell_type": "code",
   "execution_count": 31,
   "id": "bfaaa8af",
   "metadata": {},
   "outputs": [],
   "source": [
    "df.to_csv(\"cleaned_appointments.csv\", index=False)"
   ]
  },
  {
   "cell_type": "code",
   "execution_count": null,
   "id": "dcb397eb",
   "metadata": {},
   "outputs": [],
   "source": []
  }
 ],
 "metadata": {
  "kernelspec": {
   "display_name": "Python 3",
   "language": "python",
   "name": "python3"
  },
  "language_info": {
   "codemirror_mode": {
    "name": "ipython",
    "version": 3
   },
   "file_extension": ".py",
   "mimetype": "text/x-python",
   "name": "python",
   "nbconvert_exporter": "python",
   "pygments_lexer": "ipython3",
   "version": "3.11.9"
  }
 },
 "nbformat": 4,
 "nbformat_minor": 5
}
